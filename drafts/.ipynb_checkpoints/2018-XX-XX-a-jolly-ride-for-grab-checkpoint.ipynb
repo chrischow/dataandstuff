{
 "cells": [
  {
   "cell_type": "markdown",
   "metadata": {},
   "source": [
    "# Storyboard\n",
    "  \n",
    "## What do I want to communicate?\n",
    "  \n",
    "### The Key Point\n",
    "The lack of control of and access to ride data (1) prevents regulators from enforcing fair pricing practices, (2) inhibits users from protecting themselves from exploitation, and (3) ensures Grab retains its monopoly of the ride-hailing market.\n",
    "  \n",
    "### Key Recommendations\n",
    "  \n",
    "#### 1. Make data transparent\n",
    "Making data transparent (and anonymised) is the only way that regulators can reliably protect consumers. It is the only acceptable evidence to prove that users are being charged according to the disclosed pricing formulas, and that the \"surge\" factor is driven by the relative levels of demand and supply, and not by discretionary forces. Data transparency also allows users to play a part in the audit - to protect themselves from unfair pricing. This will facilitate the reporting of deviations from fair pricing.  \n",
    "  \n",
    "That is not to say that there are no benefits to Grab. By introducing an open API like Uber and Lyft, Grab could allow independent developers to acquire ride-hailers too. For example, platforms for ride-hailing can refer prospective customers to Grab without going through the Grab app, thereby reducing the strain on Grab's servers.  \n",
    "  \n",
    "#### 2. Give users authority over their own data\n",
    "Data is the co-creation of Grab and Grab users. Both should get a say in what data is stored, what data *remains* stored, and how it is used. If the objective is better services, then let data only be used for improving services. If the objective is enhanced personalisation, then let data only be used for personalising the service. Revenue maximisation is equivalent to price discrimination, and should not be allowed at all.  \n",
    "  \n",
    "### What the Future Holds\n",
    "I believe that it is only a matter of time that Grab faces a point an inflexion and is forced to recalibrate its pricing policy and revenue maximisation parameters. Either its servers will be hacked and its pricing practices revealed, or someone will develop a platform for users to reveal the true demand and supply of private-hire rides. \n",
    "\n",
    "### Micro-pointers\n",
    "  \n",
    "#### Demand\n",
    "Demand represents the maximum amount that consumers are willing to pay. Hence, by price discriminating and \n",
    "\n",
    "  \n",
    "## Data Available\n",
    "  \n",
    "* Uber pricing\n",
    "* Taxis available in SG\n",
    "* Weather data\n",
    "* Grab pricing formula, which requires Google maps inputs\n",
    "* Coupon prediction dataset for Kaggle"
   ]
  },
  {
   "cell_type": "markdown",
   "metadata": {},
   "source": [
    "---\n",
    "type: post  \n",
    "title: A Jolly Ride: How Data Opacity Reinforces Grab's Position in the Singapore Ride-Hailing Market\n",
    "\n",
    "---\n",
    "\n",
    "# If I Owned A Monopoly...\n",
    "If I were the CEO of a ride-hailing monopoly, here's what I would do. I would make it insanely difficult for...\n",
    "  \n",
    "1. Any other company to enter\n",
    "2. Regulators to audit my pricing policies\n",
    "3. Ride-hailers and drivers to collaborate\n",
    "  \n",
    "Because this ensures that (1) no company can challenge me, (2) no regulator can fault me, and (3) neither of the platform's users would abandon me. My services need not be fantastic or novel, they just need to function. These objectives would enable me to set high prices with some reasonable limit - although \"reasonable\" is subjective here - without being called out and without losing customers. Why would I do this? Because I can.\n",
    "\n",
    "How would I do all that? Easy: maintain control of all data and all transactions. And how do I achieve that? Easy: force all transactions through the Grab app.\n",
    "\n",
    "# Efficiency All the Way\n",
    "Not long ago, our transport options to get from point A to point B were limited. First, you could take the MRT. It's fast and fuss-free. If not, you could take a bus. If there were no buses or if buses were too slow, you could hail a cab. If there were no cabs, you waited until you got one. We hoped for a faster, more convenient, and cheaper way to get around, especially during emergencies. In 2013, our prayers were answered: Grab came to Singapore.  \n",
    "  \n",
    "With Grab, we had private hires as another transport option. Today, Grab offers us a price for our trip that is apparently lower than that of traditional cabs (although *marginally* lower would have done the trick e.g. $0.10), but higher than the price of an MRT or bus ride. With Grab's range of services like GrabShare, GrabCar, GrabBus, GrabBike, GrabPay, GrabPlane, GrabHeli, GrabSubmarine, GrabKid, GrabFriend, GrabLife, and GrabEverything, you'll find that what is really happening is that Grab is grabbing your money.  \n",
    "   \n",
    "\"Trust us with your data so we can *tailor* our services for you; so we can *serve* you better; so we can make *personalised* recommendations for you; so we can *understand* you better.\" Sounds familiar? Here's a different perspective: \"Trust us with your data so we know just how important this ride is to you and we can charge you the maximum amount you're willing to pay.\" On one hand, that doesn't sound fair. It's price discriminating! If person A and person B need a ride from A to B, but person A is known to be loose with his money, he will pay a higher price. On the other hand, it is efficient. Welcome to economics 101: demand is the **maximum amount that you are willing to pay for a good or service**.\n",
    "\n",
    "\n",
    "\n",
    "In this post, I discuss market competition in the Singapore ride-hailing market using criteria that are supported by open and reliable data: (1) transparency, (2) antitrust enforcement, (3) market concentration, (4) pricing practices"
   ]
  },
  {
   "cell_type": "code",
   "execution_count": null,
   "metadata": {},
   "outputs": [],
   "source": []
  }
 ],
 "metadata": {
  "kernelspec": {
   "display_name": "Python 3",
   "language": "python",
   "name": "python3"
  },
  "language_info": {
   "codemirror_mode": {
    "name": "ipython",
    "version": 3
   },
   "file_extension": ".py",
   "mimetype": "text/x-python",
   "name": "python",
   "nbconvert_exporter": "python",
   "pygments_lexer": "ipython3",
   "version": "3.6.6"
  }
 },
 "nbformat": 4,
 "nbformat_minor": 2
}
